{
 "cells": [
  {
   "cell_type": "code",
   "execution_count": 1,
   "metadata": {},
   "outputs": [],
   "source": [
    "#coding=utf8\n",
    "import scipy.io as scio\n",
    "import numpy as np"
   ]
  },
  {
   "cell_type": "code",
   "execution_count": 2,
   "metadata": {},
   "outputs": [],
   "source": [
    "# load data\n",
    "\n",
    "datas = scio.loadmat('../data/220310mscsk/KMMFdata-220312.mat')\n",
    "data_MF = datas['data_MFF']\n",
    "data_Mv = datas['data_Mv']\n",
    "data_K = datas['data_K']"
   ]
  },
  {
   "cell_type": "code",
   "execution_count": 10,
   "metadata": {},
   "outputs": [],
   "source": [
    "def establish_kmmf_dataset_for_pytorch(data_X,data_X_2,data_Y,expect_time_length):\n",
    "    dataset_X = []\n",
    "    dataset_X_2 = []\n",
    "    dataset_Y = []\n",
    "    if expect_time_length >0:\n",
    "        length = len(data_Y)-expect_time_length\n",
    "        for i in range(length):\n",
    "            dataset_X.append(data_X[i:i+expect_time_length,-6:])\n",
    "            dataset_X_2.append(data_X_2[i:i+expect_time_length,-6:])\n",
    "            dataset_Y.append(data_Y[i+expect_time_length-1,-6:])\n",
    "    else:\n",
    "        length = len(data_Y)\n",
    "        for i in range(length):\n",
    "            dataset_X.append(data_X[i,-6:])\n",
    "            dataset_X_2.append(data_X_2[i,-6:])\n",
    "            dataset_Y.append(data_Y[i,-6:])\n",
    "    return dataset_X, dataset_X_2, dataset_Y\n",
    "\n",
    "# dx,dy = establish_kmmf_dataset_for_pytorch(data_Mv,data_MF,5)"
   ]
  },
  {
   "cell_type": "code",
   "execution_count": 11,
   "metadata": {},
   "outputs": [],
   "source": [
    "# dataset_Mv,dataset_K,dataset_MF = establish_kmmf_dataset_for_pytorch(data_Mv,data_K,data_MF,5)\n",
    "# 我试试换成1的，一次5组是不是时间可能对不上\n",
    "dataset_Mv,dataset_K,dataset_MF = establish_kmmf_dataset_for_pytorch(data_Mv,data_K,data_MF,0)\n"
   ]
  },
  {
   "cell_type": "code",
   "execution_count": 12,
   "metadata": {},
   "outputs": [
    {
     "name": "stdout",
     "output_type": "stream",
     "text": [
      "(111, 6)\n",
      "(111, 6)\n",
      "(111, 6)\n"
     ]
    }
   ],
   "source": [
    "dataset_Mv = np.array(dataset_Mv)\n",
    "print(dataset_Mv.shape)\n",
    "dataset_K = np.array(dataset_K)\n",
    "print(dataset_K.shape)\n",
    "dataset_MF = np.array(dataset_MF)\n",
    "print(dataset_MF.shape)"
   ]
  },
  {
   "cell_type": "code",
   "execution_count": 9,
   "metadata": {},
   "outputs": [],
   "source": [
    "dataset_kmmf = {}\n",
    "dataset_kmmf['d_K'] = dataset_K\n",
    "dataset_kmmf['d_Mv'] = dataset_Mv\n",
    "dataset_kmmf['d_MF'] = dataset_MF\n",
    "np.save('../data/220310mscsk/dataset_for_pytorch_kmmf_ts1_220318.npy',dataset_kmmf)"
   ]
  }
 ],
 "metadata": {
  "interpreter": {
   "hash": "122afd33e14e141e8feafe6109b3cf33c81901f42114774f6f58cb0f50546406"
  },
  "kernelspec": {
   "display_name": "Python 3.8.11 64-bit ('ml2': conda)",
   "language": "python",
   "name": "python3"
  },
  "language_info": {
   "codemirror_mode": {
    "name": "ipython",
    "version": 3
   },
   "file_extension": ".py",
   "mimetype": "text/x-python",
   "name": "python",
   "nbconvert_exporter": "python",
   "pygments_lexer": "ipython3",
   "version": "3.8.11"
  },
  "orig_nbformat": 4
 },
 "nbformat": 4,
 "nbformat_minor": 2
}
