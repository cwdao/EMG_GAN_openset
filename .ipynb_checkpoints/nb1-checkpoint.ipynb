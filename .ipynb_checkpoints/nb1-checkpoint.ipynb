{
 "cells": [
  {
   "cell_type": "code",
   "execution_count": 1,
   "metadata": {},
   "outputs": [],
   "source": [
    "import torch as th\n",
    "import tensorflow as tf\n",
    "import datetime as dt\n",
    "import matplotlib.pyplot as plt\n",
    "%matplotlib inline"
   ]
  },
  {
   "cell_type": "code",
   "execution_count": null,
   "metadata": {
    "pycharm": {
     "is_executing": true,
     "name": "#%%\n"
    }
   },
   "outputs": [
    {
     "name": "stdout",
     "output_type": "stream",
     "text": [
      "tensor([[0.4672, 0.9807],\n",
      "        [0.7258, 0.4564]])\n",
      "True\n",
      "tensor([[0.0554, 0.7578],\n",
      "        [0.8476, 0.5414]], device='cuda:0')\n",
      "1\n",
      "2021 0101\n"
     ]
    }
   ],
   "source": [
    "x = th.rand(2,2)\n",
    "print(x)\n",
    "print(th.cuda.is_available())\n",
    "print(th.rand(2,2).cuda())\n",
    "d = dt.date(year = 2021, month = 1, day = 1)\n",
    "print(d.month)\n",
    "print(d.strftime('%Y %m%d'))\n",
    "\n",
    "plt.plot([4,2,3,7,1])"
   ]
  },
  {
   "cell_type": "code",
   "execution_count": null,
   "metadata": {},
   "outputs": [],
   "source": []
  }
 ],
 "metadata": {
  "interpreter": {
   "hash": "7945e75a5e8b1cbdfa4c56b0caf90a6ba17dbd8cab7e77225b1e669523592189"
  },
  "kernelspec": {
   "display_name": "Python 3",
   "language": "python",
   "name": "python3"
  },
  "language_info": {
   "codemirror_mode": {
    "name": "ipython",
    "version": 3
   },
   "file_extension": ".py",
   "mimetype": "text/x-python",
   "name": "python",
   "nbconvert_exporter": "python",
   "pygments_lexer": "ipython3",
   "version": "3.9.6"
  }
 },
 "nbformat": 4,
 "nbformat_minor": 2
}
